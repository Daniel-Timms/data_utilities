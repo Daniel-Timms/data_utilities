{
 "cells": [
  {
   "cell_type": "code",
   "execution_count": 1,
   "id": "b9a4f65f",
   "metadata": {},
   "outputs": [],
   "source": [
    "import pandas as pd"
   ]
  },
  {
   "cell_type": "code",
   "execution_count": 2,
   "id": "87df8f31",
   "metadata": {},
   "outputs": [],
   "source": [
    "data = {\n",
    "    'Product': ['A', 'B', 'A', 'A', 'B', 'B', 'A', 'B'],\n",
    "    'Region': ['North', 'North', 'South', 'South', 'North', 'South', 'North', 'South'],\n",
    "    'Sales': [100, 150, 200, 50, 300, 250, 90, 80]\n",
    "}\n",
    "\n",
    "df = pd.DataFrame(data)"
   ]
  },
  {
   "cell_type": "code",
   "execution_count": 3,
   "id": "5923a215",
   "metadata": {},
   "outputs": [],
   "source": [
    "def contingency_percentage_of_total(df, col1, col2, value_col):\n",
    "    \"\"\"\n",
    "    Compute the percentage of the grand total for each cell in the contingency table\n",
    "    based on two columns of a dataframe.\n",
    "\n",
    "    Parameters:\n",
    "    - df: pandas DataFrame\n",
    "    - col1: first column for the contingency table\n",
    "    - col2: second column for the contingency table\n",
    "    - value_col: column containing the values to be summed up (default is 'Sales')\n",
    "\n",
    "    Returns:\n",
    "    - A pandas DataFrame with percentages of the grand total for each cell.\n",
    "    \"\"\"\n",
    "\n",
    "    # Compute total sales contingency, including the margins\n",
    "    sales_contingency = pd.crosstab(df[col1], df[col2], values=df[value_col], aggfunc='sum', \n",
    "                                    margins=True, margins_name=\"Total\")\n",
    "\n",
    "    # Calculate percentage of grand total for each cell\n",
    "    grand_total = sales_contingency.loc[\"Total\", \"Total\"]\n",
    "    percentage_of_grand_total = (sales_contingency / grand_total) * 100\n",
    "\n",
    "    return round(percentage_of_grand_total, 2)"
   ]
  },
  {
   "cell_type": "code",
   "execution_count": 4,
   "id": "93aad3fa",
   "metadata": {},
   "outputs": [
    {
     "data": {
      "text/html": [
       "<div>\n",
       "<style scoped>\n",
       "    .dataframe tbody tr th:only-of-type {\n",
       "        vertical-align: middle;\n",
       "    }\n",
       "\n",
       "    .dataframe tbody tr th {\n",
       "        vertical-align: top;\n",
       "    }\n",
       "\n",
       "    .dataframe thead th {\n",
       "        text-align: right;\n",
       "    }\n",
       "</style>\n",
       "<table border=\"1\" class=\"dataframe\">\n",
       "  <thead>\n",
       "    <tr style=\"text-align: right;\">\n",
       "      <th>Region</th>\n",
       "      <th>North</th>\n",
       "      <th>South</th>\n",
       "      <th>Total</th>\n",
       "    </tr>\n",
       "    <tr>\n",
       "      <th>Product</th>\n",
       "      <th></th>\n",
       "      <th></th>\n",
       "      <th></th>\n",
       "    </tr>\n",
       "  </thead>\n",
       "  <tbody>\n",
       "    <tr>\n",
       "      <th>A</th>\n",
       "      <td>15.57</td>\n",
       "      <td>20.49</td>\n",
       "      <td>36.07</td>\n",
       "    </tr>\n",
       "    <tr>\n",
       "      <th>B</th>\n",
       "      <td>36.89</td>\n",
       "      <td>27.05</td>\n",
       "      <td>63.93</td>\n",
       "    </tr>\n",
       "    <tr>\n",
       "      <th>Total</th>\n",
       "      <td>52.46</td>\n",
       "      <td>47.54</td>\n",
       "      <td>100.00</td>\n",
       "    </tr>\n",
       "  </tbody>\n",
       "</table>\n",
       "</div>"
      ],
      "text/plain": [
       "Region   North  South   Total\n",
       "Product                      \n",
       "A        15.57  20.49   36.07\n",
       "B        36.89  27.05   63.93\n",
       "Total    52.46  47.54  100.00"
      ]
     },
     "execution_count": 4,
     "metadata": {},
     "output_type": "execute_result"
    }
   ],
   "source": [
    "contingency_percentage_of_total(df, 'Product', 'Region', 'Sales')"
   ]
  }
 ],
 "metadata": {
  "kernelspec": {
   "display_name": "Python 3 (ipykernel)",
   "language": "python",
   "name": "python3"
  },
  "language_info": {
   "codemirror_mode": {
    "name": "ipython",
    "version": 3
   },
   "file_extension": ".py",
   "mimetype": "text/x-python",
   "name": "python",
   "nbconvert_exporter": "python",
   "pygments_lexer": "ipython3",
   "version": "3.10.9"
  }
 },
 "nbformat": 4,
 "nbformat_minor": 5
}
