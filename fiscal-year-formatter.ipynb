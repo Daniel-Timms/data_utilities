{
 "cells": [
  {
   "cell_type": "code",
   "execution_count": null,
   "id": "3bc5ded5",
   "metadata": {},
   "outputs": [],
   "source": [
    "def fiscal_year_string(df, date_col):\n",
    "    '''\n",
    "    - Takes a df and date column (string).\n",
    "    - Returns a column called 'fiscal_year_string' (string), \n",
    "      as 'FY2020-21'\n",
    "    '''\n",
    "    \n",
    "    df['fiscal_year_string'] = df[date_col].apply(lambda x: f\"FY{x.year}-{x.year+1}\" \\\n",
    "                                                  if x.month > 3 else f\"FY{x.year-1}-{x.year}\")\n",
    "    return df\n",
    "\n",
    "df = fiscal_year_string(df, 'ActivityDate')\n",
    "\n",
    "def get_fiscal_year(df, date_col):\n",
    "        '''\n",
    "    - Takes a df and date column (string).\n",
    "    - Returns a column called 'fiscal_year' (int), \n",
    "      as '2020'\n",
    "    '''\n",
    "    df['fiscal_year'] = df[date_col].apply(lambda x: x.year if x.month > 3 else x.year-1)\n",
    "    return df\n",
    "\n",
    "df = get_fiscal_year(df, 'date')\n"
   ]
  }
 ],
 "metadata": {
  "kernelspec": {
   "display_name": "Python 3 (ipykernel)",
   "language": "python",
   "name": "python3"
  },
  "language_info": {
   "codemirror_mode": {
    "name": "ipython",
    "version": 3
   },
   "file_extension": ".py",
   "mimetype": "text/x-python",
   "name": "python",
   "nbconvert_exporter": "python",
   "pygments_lexer": "ipython3",
   "version": "3.10.9"
  }
 },
 "nbformat": 4,
 "nbformat_minor": 5
}
